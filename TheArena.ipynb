{
 "cells": [
  {
   "cell_type": "code",
   "execution_count": 22,
   "metadata": {},
   "outputs": [],
   "source": [
    "import random\n",
    "from common import goodGuy, badGuy, acak, copyCat\n",
    "from titfortat import TitforTat\n",
    "from titfortwotat import TitforTwoTat\n",
    "from nomercy import noMercy"
   ]
  },
  {
   "cell_type": "code",
   "execution_count": 23,
   "metadata": {},
   "outputs": [
    {
     "name": "stdout",
     "output_type": "stream",
     "text": [
      "Final Score for Tit for Tat is 3000\n",
      "Final Score for Tit for Tat is 3000\n",
      "it is a TIE!\n"
     ]
    }
   ],
   "source": [
    "P1 = TitforTat()    # Player 1\n",
    "P2 = TitforTat()         # Player 2\n",
    "\n",
    "P1_Score = 0        # Player 1 Score\n",
    "P2_Score = 0        # Player 2 Score\n",
    "\n",
    "for i in range(1000):    # x rounds\n",
    "    if i == 0 :\n",
    "        P1_Act = P1.go(0)\n",
    "        P2_Act = P2.go(0)\n",
    "    else :\n",
    "        P1_Act = P1.go(PrevP2_Act)\n",
    "        P2_Act = P2.go(PrevP1_Act)\n",
    "\n",
    "    PrevP1_Act = P1_Act\n",
    "    PrevP2_Act = P2_Act\n",
    "\n",
    "    # Log\n",
    "    #print(\"P1 : {}, P2 : {}\".format(P1_Act, P2_Act))\n",
    "\n",
    "    if (P1_Act == 1) and (P2_Act == 1) :\n",
    "        P1_Score = P1_Score + 3\n",
    "        P2_Score = P2_Score + 3\n",
    "    if (P1_Act == 2) and (P2_Act == 2) :\n",
    "        P1_Score = P1_Score + 1\n",
    "        P2_Score = P2_Score + 1\n",
    "    if (P1_Act == 1) and (P2_Act == 2) :\n",
    "        P2_Score = P2_Score + 5        \n",
    "    if (P1_Act == 2) and (P2_Act == 1) :\n",
    "        P1_Score = P1_Score + 5                \n",
    "\n",
    "print(\"Final Score for {} is {}\".format(P1.name, P1_Score))\n",
    "print(\"Final Score for {} is {}\".format(P2.name, P2_Score))\n",
    "if P1_Score > P2_Score :\n",
    "    print(\"{} is the WINNER!\".format(P1.name))\n",
    "if P1_Score < P2_Score :\n",
    "    print(\"{} is the WINNER!\".format(P2.name))\n",
    "if P1_Score == P2_Score :\n",
    "    print(\"it is a TIE!\")    "
   ]
  },
  {
   "cell_type": "code",
   "execution_count": null,
   "metadata": {},
   "outputs": [],
   "source": []
  }
 ],
 "metadata": {
  "kernelspec": {
   "display_name": "Python 3.9.5 ('base')",
   "language": "python",
   "name": "python3"
  },
  "language_info": {
   "codemirror_mode": {
    "name": "ipython",
    "version": 3
   },
   "file_extension": ".py",
   "mimetype": "text/x-python",
   "name": "python",
   "nbconvert_exporter": "python",
   "pygments_lexer": "ipython3",
   "version": "3.9.5"
  },
  "orig_nbformat": 4,
  "vscode": {
   "interpreter": {
    "hash": "af9131f3f468d0d210fed6f56aa8842ecc569a52758a7875de82ec8f14b86094"
   }
  }
 },
 "nbformat": 4,
 "nbformat_minor": 2
}
