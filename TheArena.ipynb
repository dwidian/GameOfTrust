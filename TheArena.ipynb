{
 "cells": [
  {
   "cell_type": "code",
   "execution_count": 158,
   "metadata": {},
   "outputs": [],
   "source": [
    "import random"
   ]
  },
  {
   "cell_type": "code",
   "execution_count": 159,
   "metadata": {},
   "outputs": [],
   "source": [
    "class TitforTat :\n",
    "    def __init__(self, hajar = False):\n",
    "        self.hajar = False\n",
    "    \n",
    "    def go(self, opponent):\n",
    "        if opponent != 0 :\n",
    "            if self.hajar == False :\n",
    "                if opponent == 2 :\n",
    "                    self.hajar = True\n",
    "                    return opponent\n",
    "                else :\n",
    "                    return 1\n",
    "            else :\n",
    "                 return opponent\n",
    "        else :\n",
    "             return 1"
   ]
  },
  {
   "cell_type": "code",
   "execution_count": 178,
   "metadata": {},
   "outputs": [],
   "source": [
    "class TwoTitforaTat :\n",
    "    def __init__(self, prevAct = 0):\n",
    "        self.prevAct = 0\n",
    "    \n",
    "    def go(self, opponent):\n",
    "        if opponent != 0 :\n",
    "            if self.prevAct == 0 :\n",
    "                self.prevAct = opponent\n",
    "                return 1\n",
    "            else :\n",
    "                if ((self.prevAct == 2) and (opponent == 2)) :\n",
    "                    self.prevAct = opponent\n",
    "                    return 2\n",
    "                else :\n",
    "                    self.prevAct = opponent\n",
    "                    return 1\n",
    "        else :\n",
    "             return 1"
   ]
  },
  {
   "cell_type": "code",
   "execution_count": 179,
   "metadata": {},
   "outputs": [],
   "source": [
    "class acak :\n",
    "    def go(self, opponent):\n",
    "        return random.choice([1,2])"
   ]
  },
  {
   "cell_type": "code",
   "execution_count": 180,
   "metadata": {},
   "outputs": [],
   "source": [
    "class goodGuy :\n",
    "    def go(self, opponent):\n",
    "        return 1    "
   ]
  },
  {
   "cell_type": "code",
   "execution_count": 181,
   "metadata": {},
   "outputs": [],
   "source": [
    "class badGuy :\n",
    "    def go(self, opponent):\n",
    "        return 2"
   ]
  },
  {
   "cell_type": "code",
   "execution_count": 190,
   "metadata": {},
   "outputs": [
    {
     "name": "stdout",
     "output_type": "stream",
     "text": [
      "Final Score P1 : 185\n",
      "Final Score P2 : 310\n",
      "Player 2 is the WINNER!\n"
     ]
    }
   ],
   "source": [
    "P1 = TwoTitforaTat()\n",
    "P2 = acak()\n",
    "\n",
    "P1_Score = 0\n",
    "P2_Score = 0\n",
    "\n",
    "for i in range(100):\n",
    "    if i == 0 :\n",
    "        P1_Act = P1.go(0)\n",
    "        P2_Act = P2.go(0)\n",
    "    else :\n",
    "        P1_Act = P1.go(PrevP2_Act)\n",
    "        P2_Act = P2.go(PrevP1_Act)\n",
    "\n",
    "    PrevP1_Act = P1_Act\n",
    "    PrevP2_Act = P2_Act\n",
    "\n",
    "    #print(\"P1 : {}, P2 : {}\".format(P1_Act, P2_Act))\n",
    "\n",
    "    if (P1_Act == 1) and (P2_Act == 1) :\n",
    "        P1_Score = P1_Score + 3\n",
    "        P2_Score = P2_Score + 3\n",
    "    if (P1_Act == 2) and (P2_Act == 2) :\n",
    "        P1_Score = P1_Score + 1\n",
    "        P2_Score = P2_Score + 1\n",
    "    if (P1_Act == 1) and (P2_Act == 2) :\n",
    "        P2_Score = P2_Score + 5        \n",
    "    if (P1_Act == 2) and (P2_Act == 1) :\n",
    "        P1_Score = P1_Score + 5                \n",
    "\n",
    "print(\"Final Score P1 : {}\".format(P1_Score))\n",
    "print(\"Final Score P2 : {}\".format(P2_Score))\n",
    "if P1_Score > P2_Score :\n",
    "    print(\"Player 1 is the WINNER!\")\n",
    "if P1_Score < P2_Score :\n",
    "    print(\"Player 2 is the WINNER!\")\n",
    "if P1_Score == P2_Score :\n",
    "    print(\"it is a TIE!\")    "
   ]
  },
  {
   "cell_type": "code",
   "execution_count": null,
   "metadata": {},
   "outputs": [],
   "source": []
  }
 ],
 "metadata": {
  "kernelspec": {
   "display_name": "Python 3.9.5 ('base')",
   "language": "python",
   "name": "python3"
  },
  "language_info": {
   "codemirror_mode": {
    "name": "ipython",
    "version": 3
   },
   "file_extension": ".py",
   "mimetype": "text/x-python",
   "name": "python",
   "nbconvert_exporter": "python",
   "pygments_lexer": "ipython3",
   "version": "3.9.5"
  },
  "orig_nbformat": 4,
  "vscode": {
   "interpreter": {
    "hash": "af9131f3f468d0d210fed6f56aa8842ecc569a52758a7875de82ec8f14b86094"
   }
  }
 },
 "nbformat": 4,
 "nbformat_minor": 2
}
