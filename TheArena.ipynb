{
 "cells": [
  {
   "cell_type": "code",
   "execution_count": 8,
   "metadata": {},
   "outputs": [],
   "source": [
    "import random\n",
    "\n",
    "#define "
   ]
  },
  {
   "cell_type": "markdown",
   "metadata": {},
   "source": [
    "### Tit For Tat \n",
    "Tit For Tat is similar to the philosophy of “an eye for an eye”. The punishment matches the crime. If someone defects against you, then immediate defect against them. If they start cooperating again, then you start cooperating again too. It’s the incarnation of strict fairness."
   ]
  },
  {
   "cell_type": "code",
   "execution_count": 35,
   "metadata": {},
   "outputs": [],
   "source": [
    "class TitforTat :\n",
    "    def __init__(self, hajar = False):\n",
    "        self.hajar = False\n",
    "        self.name = \"Tit for Tat\"\n",
    "    \n",
    "    def go(self, opponent):\n",
    "        if opponent != 0 :\n",
    "            if self.hajar == False :\n",
    "                if opponent == 2 :\n",
    "                    self.hajar = True\n",
    "                    return opponent\n",
    "                else :\n",
    "                    return 1 #Cooperate\n",
    "            else :\n",
    "                 return opponent\n",
    "        else :\n",
    "             return 1 #Cooperate"
   ]
  },
  {
   "cell_type": "markdown",
   "metadata": {},
   "source": [
    "### Tit for two Tat\n",
    "Cooperates on the first move, and defects only when the opponent defects two times in a row"
   ]
  },
  {
   "cell_type": "code",
   "execution_count": 36,
   "metadata": {},
   "outputs": [],
   "source": [
    "class TitforTwoTat :\n",
    "    def __init__(self, prevAct = 0):\n",
    "        self.prevAct = 0\n",
    "        self.name = \"Tit for two Tat\"\n",
    "    \n",
    "    def go(self, opponent):\n",
    "        if opponent != 0 :\n",
    "            if self.prevAct == 0 :\n",
    "                self.prevAct = opponent\n",
    "                return 1 #Cooperate\n",
    "            else :\n",
    "                if ((self.prevAct == 2) and (opponent == 2)) :\n",
    "                    self.prevAct = opponent\n",
    "                    return 2 #Defect\n",
    "                else :\n",
    "                    self.prevAct = opponent\n",
    "                    return 1 #Cooperate\n",
    "        else :\n",
    "             return 1 #Cooperate"
   ]
  },
  {
   "cell_type": "markdown",
   "metadata": {},
   "source": [
    "### No Mercy\n",
    "Cooperates on the first moves, once the opponent defect once, defect forever!"
   ]
  },
  {
   "cell_type": "code",
   "execution_count": 37,
   "metadata": {},
   "outputs": [],
   "source": [
    "class noMercy :\n",
    "    def __init__(self, hajar = False):\n",
    "        self.hajar = False\n",
    "        self.name = \"No Mercy\"\n",
    "    \n",
    "    def go(self, opponent):\n",
    "        if opponent != 0 :\n",
    "            if self.hajar == False :\n",
    "\n",
    "                if opponent == 2 :\n",
    "                    self.hajar = True\n",
    "                    return 2 #Defect\n",
    "                else :\n",
    "                    return 1 #Cooperate\n",
    "\n",
    "            else :\n",
    "                return 2 #Defect\n",
    "        else :\n",
    "             return 1 #Cooperate"
   ]
  },
  {
   "cell_type": "markdown",
   "metadata": {},
   "source": [
    "### Copy Cat\n",
    "Copy opponent prvious act"
   ]
  },
  {
   "cell_type": "code",
   "execution_count": 38,
   "metadata": {},
   "outputs": [],
   "source": [
    "class copyCat :  \n",
    "    def __init__(self):\n",
    "        self.name = \"Copy Cat\"\n",
    "\n",
    "    def go(self, opponent):\n",
    "        if opponent != 0 :\n",
    "            return opponent\n",
    "        else :\n",
    "             return 1 #Cooperate"
   ]
  },
  {
   "cell_type": "markdown",
   "metadata": {},
   "source": [
    "### Acak\n",
    "Randomly choose to cooperate or defect"
   ]
  },
  {
   "cell_type": "code",
   "execution_count": 39,
   "metadata": {},
   "outputs": [],
   "source": [
    "class acak :\n",
    "    def __init__(self):\n",
    "        self.name = \"Acak\"\n",
    "\n",
    "    def go(self, opponent):\n",
    "        return random.choice([1,2])"
   ]
  },
  {
   "cell_type": "markdown",
   "metadata": {},
   "source": [
    "### Good Guy\n",
    "Always Cooperates"
   ]
  },
  {
   "cell_type": "code",
   "execution_count": 40,
   "metadata": {},
   "outputs": [],
   "source": [
    "class goodGuy :\n",
    "    def __init__(self):\n",
    "        self.name = \"Good Guy\"\n",
    "\n",
    "    def go(self, opponent):\n",
    "        return 1 #Cooperate    "
   ]
  },
  {
   "cell_type": "markdown",
   "metadata": {},
   "source": [
    "### Bad Guy\n",
    "Always defects"
   ]
  },
  {
   "cell_type": "code",
   "execution_count": 41,
   "metadata": {},
   "outputs": [],
   "source": [
    "class badGuy :\n",
    "    def __init__(self):\n",
    "        self.name = \"Bad Guy\"\n",
    "\n",
    "    def go(self, opponent):\n",
    "        return 2 #Cooperate"
   ]
  },
  {
   "cell_type": "code",
   "execution_count": 43,
   "metadata": {},
   "outputs": [
    {
     "name": "stdout",
     "output_type": "stream",
     "text": [
      "Player 1 uses strategy : Copy Cat, with Final Score : 230\n",
      "Player 2 uses strategy : Acak, with Final Score : 235\n",
      "Player 2 is the WINNER!\n"
     ]
    }
   ],
   "source": [
    "P1 = copyCat()      # Player 1\n",
    "P2 = acak()         # Player 2\n",
    "\n",
    "P1_Score = 0        # Player 1 Score\n",
    "P2_Score = 0        # Player 2 Score\n",
    "\n",
    "for i in range(100):    # x rounds\n",
    "    if i == 0 :\n",
    "        P1_Act = P1.go(0)\n",
    "        P2_Act = P2.go(0)\n",
    "    else :\n",
    "        P1_Act = P1.go(PrevP2_Act)\n",
    "        P2_Act = P2.go(PrevP1_Act)\n",
    "\n",
    "    PrevP1_Act = P1_Act\n",
    "    PrevP2_Act = P2_Act\n",
    "\n",
    "    #print(\"P1 : {}, P2 : {}\".format(P1_Act, P2_Act))\n",
    "\n",
    "    if (P1_Act == 1) and (P2_Act == 1) :\n",
    "        P1_Score = P1_Score + 3\n",
    "        P2_Score = P2_Score + 3\n",
    "    if (P1_Act == 2) and (P2_Act == 2) :\n",
    "        P1_Score = P1_Score + 1\n",
    "        P2_Score = P2_Score + 1\n",
    "    if (P1_Act == 1) and (P2_Act == 2) :\n",
    "        P2_Score = P2_Score + 5        \n",
    "    if (P1_Act == 2) and (P2_Act == 1) :\n",
    "        P1_Score = P1_Score + 5                \n",
    "\n",
    "print(\"Player 1 uses strategy : {}, with Final Score : {}\".format(P1.name, P1_Score))\n",
    "print(\"Player 2 uses strategy : {}, with Final Score : {}\".format(P2.name, P2_Score))\n",
    "if P1_Score > P2_Score :\n",
    "    print(\"Player 1 is the WINNER!\")\n",
    "if P1_Score < P2_Score :\n",
    "    print(\"Player 2 is the WINNER!\")\n",
    "if P1_Score == P2_Score :\n",
    "    print(\"it is a TIE!\")    "
   ]
  },
  {
   "cell_type": "code",
   "execution_count": null,
   "metadata": {},
   "outputs": [],
   "source": []
  }
 ],
 "metadata": {
  "kernelspec": {
   "display_name": "Python 3.9.5 ('base')",
   "language": "python",
   "name": "python3"
  },
  "language_info": {
   "codemirror_mode": {
    "name": "ipython",
    "version": 3
   },
   "file_extension": ".py",
   "mimetype": "text/x-python",
   "name": "python",
   "nbconvert_exporter": "python",
   "pygments_lexer": "ipython3",
   "version": "3.9.5"
  },
  "orig_nbformat": 4,
  "vscode": {
   "interpreter": {
    "hash": "af9131f3f468d0d210fed6f56aa8842ecc569a52758a7875de82ec8f14b86094"
   }
  }
 },
 "nbformat": 4,
 "nbformat_minor": 2
}
